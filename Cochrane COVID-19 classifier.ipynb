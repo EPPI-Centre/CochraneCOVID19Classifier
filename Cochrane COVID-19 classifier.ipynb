{
 "cells": [
  {
   "cell_type": "markdown",
   "metadata": {},
   "source": [
    "# To recreate the model, calibration and results reported in the paper: Machine learning reduced workload with minimal risk of missing studies: development and evaluation of a COVID-19 research classifier for the Cochrane COVID-19 Study Register\n",
    "N.B. very slight variation is to be expected due to running in a different environment and the fact that RIS files are used here rather than reading text from the database.\n"
   ]
  },
  {
   "cell_type": "code",
   "execution_count": 1,
   "metadata": {},
   "outputs": [],
   "source": [
    "# import ris files\n",
    "\n",
    "from RISparser import readris\n",
    "\n",
    "TrainingIncludes = readris(open('1_Training_Included_20878.ris.txt', 'r', encoding=\"utf-8\"))\n",
    "TrainingExcludes = readris(open('2_Training_Excluded_38635.ris.txt', 'r', encoding=\"utf-8\"))\n",
    "CalibrationIncludes = readris(open('3_Calibration_Included_6005.ris.txt', 'r', encoding=\"utf-8\"))\n",
    "CalibrationExcludes = readris(open('4_Calibration_Excluded_10118.ris.txt', 'r', encoding=\"utf-8\"))\n",
    "EvaluationIncludes = readris(open('5_Evaluation_Included_2310.ris.txt', 'r', encoding=\"utf-8\"))\n",
    "EvaluationExcludes = readris(open('6_Evaluation_Excluded_2412.ris.txt', 'r', encoding=\"utf-8\"))"
   ]
  },
  {
   "cell_type": "code",
   "execution_count": 2,
   "metadata": {},
   "outputs": [],
   "source": [
    "# read data into dataframes (this can take a few minutes)\n",
    "\n",
    "import pandas as pd\n",
    "\n",
    "def parseData(incl, excl):\n",
    "    data = pd.DataFrame(columns=['title', 'abstract', 'label'])\n",
    "    for l in incl:\n",
    "        title = ''\n",
    "        abstract = ''\n",
    "        if 'abstract' in l:\n",
    "            abstract = l['abstract']\n",
    "        if 'primary_title' in l:\n",
    "            title = l['primary_title']\n",
    "        data = data.append({'title': title, 'abstract': abstract, 'label': 1}, ignore_index=True)\n",
    "    for l in excl:\n",
    "        title = ''\n",
    "        abstract = ''\n",
    "        if 'abstract' in l:\n",
    "            abstract = l['abstract']\n",
    "        if 'primary_title' in l:\n",
    "            title = l['primary_title']\n",
    "        data = data.append({'title': title, 'abstract': abstract, 'label': 0}, ignore_index=True)\n",
    "    data.abstract = data.abstract.fillna('none')\n",
    "    data.title = data.title.fillna('none')\n",
    "    data.reset_index(inplace=True)\n",
    "    return data\n",
    "\n",
    "TrainingDf = parseData(TrainingIncludes, TrainingExcludes)\n",
    "CalibrationDf = parseData(CalibrationIncludes, CalibrationExcludes)\n",
    "EvaluationDf = parseData(EvaluationIncludes, EvaluationExcludes)"
   ]
  },
  {
   "cell_type": "code",
   "execution_count": 3,
   "metadata": {},
   "outputs": [
    {
     "data": {
      "text/plain": [
       "GridSearchCV(cv=StratifiedKFold(n_splits=2, random_state=None, shuffle=False),\n",
       "             error_score='raise-deprecating',\n",
       "             estimator=SGDClassifier(alpha=0.0001, average=False,\n",
       "                                     class_weight='balanced',\n",
       "                                     early_stopping=False, epsilon=0.1,\n",
       "                                     eta0=0.0, fit_intercept=True,\n",
       "                                     l1_ratio=0.15, learning_rate='optimal',\n",
       "                                     loss='log', max_iter=1000,\n",
       "                                     n_iter_no_change=5, n_jobs=None,\n",
       "                                     penalty='l2', power_t=0.5,\n",
       "                                     random_state=None, shuffle=True, tol=0.001,\n",
       "                                     validation_fraction=0.1, verbose=0,\n",
       "                                     warm_start=False),\n",
       "             iid='warn', n_jobs=None,\n",
       "             param_grid={'alpha': array([1.e-01, 1.e-02, 1.e-03, 1.e-04, 1.e-05, 1.e-06])},\n",
       "             pre_dispatch='2*n_jobs', refit=True, return_train_score=False,\n",
       "             scoring='roc_auc', verbose=0)"
      ]
     },
     "execution_count": 3,
     "metadata": {},
     "output_type": "execute_result"
    }
   ],
   "source": [
    "# build model\n",
    "\n",
    "import numpy as np\n",
    "from sklearn.feature_extraction.text import TfidfVectorizer\n",
    "from sklearn.linear_model import SGDClassifier\n",
    "from sklearn.model_selection import GridSearchCV, GroupKFold, StratifiedKFold\n",
    "\n",
    "def getFeatures(data):\n",
    "    all_features = []\n",
    "    for index in range(len(data)):\n",
    "        title_tokens = data.title[index]\n",
    "        abstract_tokens = data.abstract[index]        \n",
    "        features = [\"t_%s\" % t for t in title_tokens.split(\" \") if not t in stopwords]      \n",
    "        features2 = [\"a_%s\" % t for t in abstract_tokens.split(\" \") if not t in stopwords]\n",
    "        features.extend(features2)\n",
    "        all_features.append(\" \".join(features))\n",
    "    return all_features\n",
    "\n",
    "stopwords = pd.read_csv('pubmed.stoplist.csv')\n",
    "ids = TrainingDf.index.tolist()\n",
    "labels = TrainingDf.label.astype(int)\n",
    "training_features = getFeatures(TrainingDf)\n",
    "\n",
    "vec = TfidfVectorizer(ngram_range=(1,3), max_features=75000, min_df=3, strip_accents='unicode')\n",
    "X = vec.fit_transform(training_features)\n",
    "\n",
    "sgd = SGDClassifier(class_weight=\"balanced\", loss=\"log\")\n",
    "parameters = {'alpha':10.0**-np.arange(1,7)}\n",
    "clf = GridSearchCV(sgd, parameters, scoring=\"roc_auc\", cv=StratifiedKFold(n_splits=2))\n",
    "clf.fit(X, labels)"
   ]
  },
  {
   "cell_type": "code",
   "execution_count": 4,
   "metadata": {},
   "outputs": [],
   "source": [
    "# score calibration and test data\n",
    "\n",
    "#vec2 = TfidfVectorizer(vocabulary=vec.get_feature_names(), ngram_range=(1,3), max_features=75000, min_df=3)\n",
    "\n",
    "calibration_features = getFeatures(CalibrationDf)\n",
    "evaluation_features = getFeatures(EvaluationDf)\n",
    "\n",
    "X_calibration = vec.transform(calibration_features)\n",
    "X_evaluation = vec.transform(evaluation_features)\n",
    "\n",
    "calibration_preds = clf.predict_proba(X_calibration)\n",
    "calibration_probabilities = calibration_preds[:,1]\n",
    "\n",
    "evaluation_preds = clf.predict_proba(X_evaluation)\n",
    "evaluation_probabilities = evaluation_preds[:,1]"
   ]
  },
  {
   "cell_type": "code",
   "execution_count": 5,
   "metadata": {},
   "outputs": [
    {
     "data": {
      "image/png": "[encoded data removed]",
      "text/plain": [
       "<Figure size 700x500 with 1 Axes>"
      ]
     },
     "metadata": {
      "needs_background": "light"
     },
     "output_type": "display_data"
    }
   ],
   "source": [
    "# plot calibration distribution\n",
    "\n",
    "import matplotlib.pyplot as plt\n",
    "%matplotlib inline\n",
    "plt.rcParams.update({'figure.figsize':(7,5), 'figure.dpi':100})\n",
    "\n",
    "CalibrationDf['probabilities'] = calibration_probabilities\n",
    "\n",
    "x1 = CalibrationDf.loc[CalibrationDf.label==1, 'probabilities']\n",
    "x2 = CalibrationDf.loc[CalibrationDf.label==0, 'probabilities']\n",
    "\n",
    "kwargs = dict(alpha=0.5, bins=10, stacked=True)\n",
    "\n",
    "plt.hist(x1, **kwargs, color='g', label='Include')\n",
    "plt.hist(x2, **kwargs, color='r', label='Exclude')\n",
    "plt.gca().set(title='Frequency histogram of calibration probabilities', ylabel='Frequency')\n",
    "\n",
    "plt.legend();"
   ]
  },
  {
   "cell_type": "code",
   "execution_count": 6,
   "metadata": {},
   "outputs": [
    {
     "data": {
      "image/png": "[encoded data removed]",
      "text/plain": [
       "<Figure size 432x288 with 1 Axes>"
      ]
     },
     "metadata": {
      "needs_background": "light"
     },
     "output_type": "display_data"
    }
   ],
   "source": [
    "# plot evaluation distribution\n",
    "\n",
    "EvaluationDf['probabilities'] = evaluation_probabilities\n",
    "\n",
    "x1 = EvaluationDf.loc[EvaluationDf.label==1, 'probabilities']\n",
    "x2 = EvaluationDf.loc[EvaluationDf.label==0, 'probabilities']\n",
    "\n",
    "kwargs = dict(alpha=0.5, bins=10, stacked=True)\n",
    "\n",
    "plt.hist(x1, **kwargs, color='g', label='Include')\n",
    "plt.hist(x2, **kwargs, color='r', label='Exclude')\n",
    "plt.gca().set(title='Frequency histogram of evaluation probabilities', ylabel='Frequency')\n",
    "\n",
    "plt.legend();"
   ]
  }
 ],
 "metadata": {
  "kernelspec": {
   "display_name": "Python 3",
   "language": "python",
   "name": "python3"
  },
  "language_info": {
   "codemirror_mode": {
    "name": "ipython",
    "version": 3
   },
   "file_extension": ".py",
   "mimetype": "text/x-python",
   "name": "python",
   "nbconvert_exporter": "python",
   "pygments_lexer": "ipython3",
   "version": "3.7.3"
  }
 },
 "nbformat": 4,
 "nbformat_minor": 4
}
